{
 "metadata": {
  "name": "",
  "signature": "sha256:0372051a55d1c230f0f75bc8b4d90d4e498bcd5f5a08d394ff197b620ad8349a"
 },
 "nbformat": 3,
 "nbformat_minor": 0,
 "worksheets": [
  {
   "cells": [
    {
     "cell_type": "code",
     "collapsed": false,
     "input": [
      "from ale_python_interface import ALEInterface\n",
      "import tensorflow as tf\n",
      "import numpy as np\n",
      "import cv2\n",
      "import random\n",
      "from collections import deque\n",
      "import time\n",
      "import os\n",
      "import matplotlib.pyplot as plt\n",
      "%matplotlib inline\n",
      "\n",
      "from replayMemory import ReplayMemory\n",
      "import buildGraph"
     ],
     "language": "python",
     "metadata": {},
     "outputs": [
      {
       "output_type": "stream",
       "stream": "stderr",
       "text": [
        "/home/cgel/.local/lib/python2.7/site-packages/matplotlib/font_manager.py:273: UserWarning: Matplotlib is building the font cache using fc-list. This may take a moment.\n",
        "  warnings.warn('Matplotlib is building the font cache using fc-list. This may take a moment.')\n"
       ]
      }
     ],
     "prompt_number": 1
    },
    {
     "cell_type": "code",
     "collapsed": false,
     "input": [
      "ale = ALEInterface()\n",
      "viz = False\n",
      "ale.setBool('sound', False)                                                                                \n",
      "ale.setBool('display_screen', viz) \n",
      "ale.setInt(\"frame_skip\", 4)\n",
      "ale.loadROM(\"roms/Breakout.bin\")\n",
      "\n",
      "legal_actions = ale.getMinimalActionSet()\n",
      "action_map = {}\n",
      "for i in range(len(legal_actions)):\n",
      "    action_map[i] = legal_actions[i]\n",
      "action_num = len(action_map)"
     ],
     "language": "python",
     "metadata": {},
     "outputs": [],
     "prompt_number": 2
    },
    {
     "cell_type": "code",
     "collapsed": false,
     "input": [
      "# Hyper Parameters:\n",
      "GAMMA = 0.99 # decay rate of past observations\n",
      "STEPS_BEFORE_TRAINING = 50000\n",
      "EXPLORE = 1000000. # frames over which to anneal epsilon\n",
      "FINAL_EPSILON = 0.1#0.001 # final value of epsilon\n",
      "INITIAL_EPSILON = 1.0#0.01 # starting value of epsilon\n",
      "REPLAY_MEMORY_SIZE = 400000 # number of previous transitions to remember\n",
      "BATCH_SIZE = 32 # size of minibatch\n",
      "PARAM_SYNC_STEPS = 10000\n",
      "INITIAL_EPSILON = 0.9\n",
      "BUF_SIZE = 4\n",
      "SAVE_SUMMARY_STEPS = 100\n",
      "\n",
      "class config:\n",
      "    batch_size = 32\n",
      "    replay_memory_capacity = 1000000\n",
      "    buff_size = BUF_SIZE\n",
      "    \n",
      "def get_epsilon():\n",
      "    if global_step < EXPLORE:\n",
      "        return INITIAL_EPSILON - ( (INITIAL_EPSILON-FINAL_EPSILON)/EXPLORE ) * global_step\n",
      "    else:\n",
      "        return FINAL_EPSILON\n",
      "    \n",
      "RM = ReplayMemory(config)"
     ],
     "language": "python",
     "metadata": {},
     "outputs": [],
     "prompt_number": 3
    },
    {
     "cell_type": "code",
     "collapsed": false,
     "input": [
      "def preprocess(new_frame, state):\n",
      "    frame = cv2.resize(new_frame, (84, 110))[26:110,:]\n",
      "    new_state = np.roll(state, -11, axis=3)\n",
      "    new_state[0, :, :, BUF_SIZE -1] = frame\n",
      "    return new_state"
     ],
     "language": "python",
     "metadata": {},
     "outputs": [],
     "prompt_number": 4
    },
    {
     "cell_type": "code",
     "collapsed": false,
     "input": [
      "#with tf.device(\"/gpu:0\"):\n",
      "with tf.name_scope(\"DQN\"):\n",
      "    DQN_input_placeholder, DQN, DQN_params = buildGraph.createQNetwork(\"DQN_summaries\", action_num)\n",
      "    #the action with the highest Q\n",
      "    max_action_DQN = tf.argmax(DQN, 1)\n",
      "    #tf.scalar_summary(\"max_DQN\", max_action_DQN)\n",
      "#with tf.device(\"/gpu:1\"):\n",
      "with tf.name_scope(\"DQNTarget\"):\n",
      "    DQNT_input_placeholder, DQNT, DQNT_params = buildGraph.createQNetwork(\"DQNT_summaries\", action_num)\n",
      "    #the higest DQNT value\n",
      "    max_DQNT = tf.reduce_max(DQNT, 1)\n",
      "\n",
      "sync_DQNT_op = [DQNT_params[i].assign(DQN_params[i]) for i in range(len(DQN_params))]\n",
      "\n",
      "# r + Qtarget; is feeded as Y\n",
      "Y_placeholder = tf.placeholder(tf.float32, [None], name=\"Y_placeholder\")\n",
      "Action_batch = tf.placeholder(tf.int64, [None], name=\"Action_placholder\")\n",
      "train_op = buildGraph.build_train_op(DQN, Y_placeholder, Action_batch, action_num)\n",
      "\n",
      "game_acc_reward = tf.placeholder(tf.float32, name=\"game_acc_reward\")\n",
      "game_acc_reward_summary_op = tf.scalar_summary(\"game_acc_reward\", game_acc_reward)"
     ],
     "language": "python",
     "metadata": {},
     "outputs": [],
     "prompt_number": 5
    },
    {
     "cell_type": "code",
     "collapsed": true,
     "input": [
      "def update_params():\n",
      "    if global_step > STEPS_BEFORE_TRAINING:\n",
      "        state_batch, action_batch, reward_batch, next_state_batch, terminal_batch = RM.sample_transition_batch()\n",
      "        DQNT_max_action_batch, DQNT_summary_str = sess.run([max_DQNT, DQNT_summary_op], feed_dict={DQNT_input_placeholder:next_state_batch})\n",
      "        Y = []\n",
      "        for i in range(state_batch.shape[0]):\n",
      "            terminal = terminal_batch[i]\n",
      "            if terminal:\n",
      "                Y.append(reward_batch[i])\n",
      "            else:\n",
      "                Y.append(reward_batch[i] + GAMMA * DQNT_max_action_batch[i])\n",
      "        _, DQN_summary_str = sess.run([train_op, DQN_summary_op], feed_dict={Y_placeholder : Y,\n",
      "                                                              Action_batch : action_batch,\n",
      "                                                              DQN_input_placeholder : state_batch})\n",
      "        if global_step % SAVE_SUMMARY_STEPS == 0:\n",
      "            summary_writter.add_summary(DQNT_summary_str, global_step)\n",
      "            summary_writter.add_summary(DQN_summary_str, global_step)\n",
      "\n",
      "    if global_step % PARAM_SYNC_STEPS == 0:\n",
      "        print(\"syncing DQNT parameters\")\n",
      "        sess.run(sync_DQNT_op)"
     ],
     "language": "python",
     "metadata": {},
     "outputs": [],
     "prompt_number": 6
    },
    {
     "cell_type": "code",
     "collapsed": false,
     "input": [
      "sess = tf.Session(config=tf.ConfigProto(\n",
      "        allow_soft_placement=True))\n",
      "saver = tf.train.Saver()\n",
      "sess.run(tf.initialize_all_variables())"
     ],
     "language": "python",
     "metadata": {},
     "outputs": [],
     "prompt_number": 7
    },
    {
     "cell_type": "code",
     "collapsed": false,
     "input": [
      "#geneate a new set of paths\n",
      "run_list = os.listdir(\"log\")\n",
      "int_run_list = [int(r) for r in run_list] + [0]\n",
      "run_name = str(max(int_run_list) + 1)\n",
      "checkpoint_path = \"checkpoint/\" + run_name + \".ckpt\"\n",
      "log_path = \"log/\"+ run_name\n",
      "print(run_name)"
     ],
     "language": "python",
     "metadata": {},
     "outputs": [
      {
       "output_type": "stream",
       "stream": "stdout",
       "text": [
        "3\n"
       ]
      }
     ],
     "prompt_number": 8
    },
    {
     "cell_type": "code",
     "collapsed": false,
     "input": [
      "DQN_summary_op = tf.merge_summary(tf.get_collection(\"DQN_summaries\"))\n",
      "DQNT_summary_op = tf.merge_summary(tf.get_collection(\"DQNT_summaries\"))\n",
      "summary_writter = tf.train.SummaryWriter(log_path, sess.graph, flush_secs=2)"
     ],
     "language": "python",
     "metadata": {},
     "outputs": [],
     "prompt_number": 9
    },
    {
     "cell_type": "code",
     "collapsed": false,
     "input": [
      "#saver.restore(sess, \"checkpoint/1.ckpt\")"
     ],
     "language": "python",
     "metadata": {},
     "outputs": [],
     "prompt_number": 10
    },
    {
     "cell_type": "code",
     "collapsed": false,
     "input": [
      "global_step = 0\n",
      "global_episode = 0"
     ],
     "language": "python",
     "metadata": {},
     "outputs": [],
     "prompt_number": 11
    },
    {
     "cell_type": "code",
     "collapsed": false,
     "input": [
      "FINAL_EPSILON = 0.1#0.001 # final value of epsilon"
     ],
     "language": "python",
     "metadata": {},
     "outputs": [],
     "prompt_number": 12
    },
    {
     "cell_type": "code",
     "collapsed": false,
     "input": [
      "t = time.time()\n",
      "num_episodes = 100\n",
      "inie = global_episode\n",
      "for episode in range(global_episode, num_episodes + global_episode):\n",
      "    global_episode += 1\n",
      "    if episode%80 == 0:\n",
      "        percent = int(float(episode - inie)/num_episodes * 100)\n",
      "        print(\"%i%% -- epsilon:%.2f\"%(percent, get_epsilon()))\n",
      "    state = np.zeros((1, 84, 84, BUF_SIZE), dtype=np.int8)\n",
      "    R = 0\n",
      "    while ale.game_over() == False:\n",
      "        raw_frame = ale.getScreenGrayscale()\n",
      "        state = preprocess(raw_frame, state)\n",
      "        current_DQN =  sess.run(DQN, feed_dict={DQN_input_placeholder:state})[0]\n",
      "        action = np.argmax(current_DQN)\n",
      "        if np.random.uniform() < get_epsilon():\n",
      "            action = random.randint(0, action_num - 1)\n",
      "            \n",
      "        reward = ale.act(action_map[action])\n",
      "        R += reward\n",
      "        isTerminal = ale.game_over()\n",
      "        RM.add(state[0, :, :, BUF_SIZE -1], action, reward, isTerminal)\n",
      "        update_params()\n",
      "            \n",
      "        if global_step == STEPS_BEFORE_TRAINING:\n",
      "            print(\"Starting training\")\n",
      "            \n",
      "        global_step += 1\n",
      "        \n",
      "    R_str = sess.run(game_acc_reward_summary_op, feed_dict={game_acc_reward : R})\n",
      "    summary_writter.add_summary(R_str, global_episode)\n",
      "    ale.reset_game()\n",
      "print(\"==\")\n",
      "print((time.time() - t)/60)"
     ],
     "language": "python",
     "metadata": {},
     "outputs": [
      {
       "output_type": "stream",
       "stream": "stdout",
       "text": [
        "==\n",
        "0.114787018299\n"
       ]
      }
     ],
     "prompt_number": 15
    },
    {
     "cell_type": "code",
     "collapsed": false,
     "input": [],
     "language": "python",
     "metadata": {},
     "outputs": [],
     "prompt_number": 16
    },
    {
     "cell_type": "code",
     "collapsed": false,
     "input": [
      "saver.save(sess, checkpoint_path+global_episode)"
     ],
     "language": "python",
     "metadata": {},
     "outputs": [
      {
       "metadata": {},
       "output_type": "pyout",
       "prompt_number": 20,
       "text": [
        "'checkpoint/3.ckpt'"
       ]
      }
     ],
     "prompt_number": 20
    },
    {
     "cell_type": "code",
     "collapsed": false,
     "input": [],
     "language": "python",
     "metadata": {},
     "outputs": []
    },
    {
     "cell_type": "code",
     "collapsed": false,
     "input": [
      "color = \"Greys_r\"\n",
      "def show_state(state):\n",
      "    fig = plt.figure()\n",
      "    for i in range(0, 4):\n",
      "        a=fig.add_subplot(1,4,i+1)\n",
      "        plt.axis(\"off\")\n",
      "        plt.title(str(i))\n",
      "        plt.imshow(state[:,:,i], color)\n",
      "\n",
      "def show_frame(frame):\n",
      "    fig = plt.figure()\n",
      "    plt.axis(\"off\")\n",
      "    plt.imshow(frame[:,:,BUF_SIZE -1], color)"
     ],
     "language": "python",
     "metadata": {},
     "outputs": [],
     "prompt_number": 16
    },
    {
     "cell_type": "code",
     "collapsed": false,
     "input": [
      "batch = RM.sample_transition_batch()\n",
      "state_batch = batch[0]\n",
      "for i in range(min(state_batch.shape[0], 10)):\n",
      "#for i in range(5):\n",
      "    show_state(state_batch[i])"
     ],
     "language": "python",
     "metadata": {},
     "outputs": [
      {
       "metadata": {},
       "output_type": "display_data",
       "png": "[encoded data removed]",
       "text": [
        "<matplotlib.figure.Figure at 0x7f7fc4efdfd0>"
       ]
      },
      {
       "metadata": {},
       "output_type": "display_data",
       "png": "[encoded data removed]",
       "text": [
        "<matplotlib.figure.Figure at 0x7f7fc4b3ca90>"
       ]
      },
      {
       "metadata": {},
       "output_type": "display_data",
       "png": "[encoded data removed]",
       "text": [
        "<matplotlib.figure.Figure at 0x7f7fc58ac850>"
       ]
      },
      {
       "metadata": {},
       "output_type": "display_data",
       "png": "[encoded data removed]",
       "text": [
        "<matplotlib.figure.Figure at 0x7f7fc49649d0>"
       ]
      },
      {
       "metadata": {},
       "output_type": "display_data",
       "png": "[encoded data removed]",
       "text": [
        "<matplotlib.figure.Figure at 0x7f7fc56b1f90>"
       ]
      },
      {
       "metadata": {},
       "output_type": "display_data",
       "png": "[encoded data removed]",
       "text": [
        "<matplotlib.figure.Figure at 0x7f7fc6fb2890>"
       ]
      },
      {
       "metadata": {},
       "output_type": "display_data",
       "png": "[encoded data removed]",
       "text": [
        "<matplotlib.figure.Figure at 0x7f801032d850>"
       ]
      },
      {
       "metadata": {},
       "output_type": "display_data",
       "png": "[encoded data removed]",
       "text": [
        "<matplotlib.figure.Figure at 0x7f7f8ff7e1d0>"
       ]
      },
      {
       "metadata": {},
       "output_type": "display_data",
       "png": "[encoded data removed]",
       "text": [
        "<matplotlib.figure.Figure at 0x7f7fc6e52190>"
       ]
      },
      {
       "metadata": {},
       "output_type": "display_data",
       "png": "[encoded data removed]",
       "text": [
        "<matplotlib.figure.Figure at 0x7f7fc63bea10>"
       ]
      }
     ],
     "prompt_number": 23
    },
    {
     "cell_type": "code",
     "collapsed": false,
     "input": [],
     "language": "python",
     "metadata": {},
     "outputs": []
    },
    {
     "cell_type": "code",
     "collapsed": false,
     "input": [
      "#profile\n",
      "initial_t = time.time()\n",
      "t_DQN_forward = 0 #\n",
      "t_update = 0\n",
      "aa = 0\n",
      "bb = 0\n",
      "xx = 0\n",
      "yy = 0\n",
      "a = 0\n",
      "b = 0\n",
      "x = 0\n",
      "y = 0\n",
      "num_episodes = 1\n",
      "in_ep = global_step\n",
      "for episode in range(num_episodes):\n",
      "    global_episode += 1\n",
      "    state = np.zeros((1, 84, 84, BUF_SIZE), dtype=np.int8)\n",
      "    R = 0\n",
      "    while ale.game_over() == False:\n",
      "        raw_frame = ale.getScreenGrayscale()\n",
      "        state = preprocess(raw_frame, state)\n",
      "        t = time.time()\n",
      "        current_DQN =  sess.run(DQN, feed_dict={DQN_input_placeholder:state})[0]\n",
      "        t_DQN_forward += time.time() -t\n",
      "        \n",
      "        action = np.argmax(current_DQN)\n",
      "        if np.random.uniform() < get_epsilon():\n",
      "            action = random.randint(0, action_num - 1)\n",
      "            \n",
      "        reward = ale.act(action_map[action])\n",
      "        R += reward\n",
      "        isTerminal = ale.game_over()\n",
      "        RM.add(state[0, :, :, BUF_SIZE -1], action, reward, isTerminal)\n",
      "        \n",
      "        t = time.time()\n",
      "        update_params()\n",
      "        aa += a\n",
      "        bb += b\n",
      "        xx += x\n",
      "        yy += y\n",
      "        t_update += time.time() - t\n",
      "            \n",
      "        if global_step == STEPS_BEFORE_TRAINING:\n",
      "            print(\"Starting training\")\n",
      "            \n",
      "        global_step += 1\n",
      "        \n",
      "    R_str = sess.run(game_acc_reward_summary_op, feed_dict={game_acc_reward : R})\n",
      "    summary_writter.add_summary(R_str, global_step)\n",
      "    ale.reset_game()\n",
      "print(global_step - in_ep)\n",
      "print(\"==\")\n",
      "print((time.time() - initial_t)/(global_step - in_ep))"
     ],
     "language": "python",
     "metadata": {},
     "outputs": [
      {
       "output_type": "stream",
       "stream": "stdout",
       "text": [
        "258\n",
        "==\n",
        "0.0219203843627\n"
       ]
      }
     ],
     "prompt_number": 20
    },
    {
     "cell_type": "code",
     "collapsed": false,
     "input": [
      "print(\"t_DQN_forward\", t_DQN_forward)\n",
      "print(\"t_update\", t_update)\n",
      "print(\"aa\", aa)\n",
      "print(\"bb\", bb)\n",
      "print(\"xx\", xx)\n",
      "print(\"yy\", yy)"
     ],
     "language": "python",
     "metadata": {},
     "outputs": [
      {
       "output_type": "stream",
       "stream": "stdout",
       "text": [
        "('t_DQN_forward', 0.31740856170654297)\n",
        "('t_update', 2.8109984397888184)\n",
        "('aa', 0.5878574848175049)\n",
        "('bb', 1.325747013092041)\n",
        "('xx', 0.03175234794616699)\n",
        "('yy', 0.8630373477935791)\n"
       ]
      }
     ],
     "prompt_number": 29
    },
    {
     "cell_type": "code",
     "collapsed": false,
     "input": [
      "print(\"t_DQN_forward\", t_DQN_forward)\n",
      "print(\"t_update\", t_update)\n",
      "print(\"aa\", aa)\n",
      "print(\"bb\", bb)\n",
      "print(\"xx\", xx)\n",
      "print(\"yy\", yy)"
     ],
     "language": "python",
     "metadata": {},
     "outputs": [
      {
       "output_type": "stream",
       "stream": "stdout",
       "text": [
        "('t_DQN_forward', 0.46280980110168457)\n",
        "('t_update', 4.13132381439209)\n",
        "('aa', 0.849787712097168)\n",
        "('bb', 1.9239048957824707)\n",
        "('xx', 0.04793381690979004)\n",
        "('yy', 1.3059370517730713)\n"
       ]
      }
     ],
     "prompt_number": 27
    },
    {
     "cell_type": "code",
     "collapsed": false,
     "input": [
      "global_step"
     ],
     "language": "python",
     "metadata": {},
     "outputs": [
      {
       "metadata": {},
       "output_type": "pyout",
       "prompt_number": 21,
       "text": [
        "696"
       ]
      }
     ],
     "prompt_number": 21
    },
    {
     "cell_type": "code",
     "collapsed": false,
     "input": [
      "aa + bb + xx + yy"
     ],
     "language": "python",
     "metadata": {},
     "outputs": [
      {
       "metadata": {},
       "output_type": "pyout",
       "prompt_number": 47,
       "text": [
        "3.810210704803467"
       ]
      }
     ],
     "prompt_number": 47
    },
    {
     "cell_type": "code",
     "collapsed": false,
     "input": [
      "t_DQN_forward + t_update"
     ],
     "language": "python",
     "metadata": {},
     "outputs": [
      {
       "metadata": {},
       "output_type": "pyout",
       "prompt_number": 42,
       "text": [
        "4.250617504119873"
       ]
      }
     ],
     "prompt_number": 42
    },
    {
     "cell_type": "code",
     "collapsed": false,
     "input": [
      "2.99/3.25"
     ],
     "language": "python",
     "metadata": {},
     "outputs": [
      {
       "metadata": {},
       "output_type": "pyout",
       "prompt_number": 46,
       "text": [
        "0.92"
       ]
      }
     ],
     "prompt_number": 46
    },
    {
     "cell_type": "code",
     "collapsed": false,
     "input": [
      "for i in range(1000000):\n",
      "    RM.add(state[0,:,:,3], 0, 0, False)"
     ],
     "language": "python",
     "metadata": {},
     "outputs": [],
     "prompt_number": 34
    },
    {
     "cell_type": "code",
     "collapsed": false,
     "input": [
      "print(\"t_DQN_forward\", t_DQN_forward)\n",
      "print(\"t_update\", t_update)\n",
      "print(\"aa\", aa)\n",
      "print(\"bb\", bb)\n",
      "print(\"xx\", xx)\n",
      "print(\"yy\", yy)"
     ],
     "language": "python",
     "metadata": {},
     "outputs": [
      {
       "output_type": "stream",
       "stream": "stdout",
       "text": [
        "('t_DQN_forward', 0.2531135082244873)\n",
        "('t_update', 2.2417984008789062)\n",
        "('aa', 0.46612548828125)\n",
        "('bb', 1.0597844123840332)\n",
        "('xx', 0.025408267974853516)\n",
        "('yy', 0.6882612705230713)\n"
       ]
      }
     ],
     "prompt_number": 20
    },
    {
     "cell_type": "code",
     "collapsed": false,
     "input": [],
     "language": "python",
     "metadata": {},
     "outputs": []
    },
    {
     "cell_type": "code",
     "collapsed": false,
     "input": [],
     "language": "python",
     "metadata": {},
     "outputs": []
    },
    {
     "cell_type": "code",
     "collapsed": false,
     "input": [
      "def gredy_play(num_episodes):\n",
      "    ale.reset_game()\n",
      "    for episode in range(global_episode, num_episodes + global_episode):\n",
      "        state = np.zeros((1, 84, 84, frame_buff_size), dtype=np.int8)\n",
      "        R = 0\n",
      "        while ale.game_over() == False:\n",
      "            raw_frame = ale.getScreenGrayscale()\n",
      "            prev_state = state\n",
      "            state = preprocess(raw_frame, state)\n",
      "            current_DQN =  sess.run(DQN, feed_dict={DQN_input_placeholder:state})[0]\n",
      "            action = np.argmax(current_DQN)\n",
      "            if np.random.uniform() < 0.1:\n",
      "                action = random.randint(0, action_num - 1)\n",
      "\n",
      "            reward = ale.act(action_map[action])\n",
      "            R += reward\n",
      "\n",
      "        ale.reset_game()\n",
      "        print(R)\n"
     ],
     "language": "python",
     "metadata": {},
     "outputs": [],
     "prompt_number": 67
    }
   ],
   "metadata": {}
  }
 ]
}