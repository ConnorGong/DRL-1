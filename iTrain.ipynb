{
 "metadata": {
  "name": "",
  "signature": "sha256:c4419c0f1dde37bc68362cfb598e021c13631e181d81c4594d568c25aba01f5b"
 },
 "nbformat": 3,
 "nbformat_minor": 0,
 "worksheets": [
  {
   "cells": [
    {
     "cell_type": "code",
     "collapsed": false,
     "input": [
      "import tensorflow as tf\n",
      "import gym\n",
      "import time\n",
      "import string\n",
      "import os\n",
      "import re\n",
      "import argparse\n",
      "%matplotlib inline\n",
      "config = argparse.Namespace()\n",
      "config.batch_size = 32\n",
      "config.replay_memory_capacity = 1000000\n",
      "config.steps_before_training = 2000\n",
      "#config.steps_before_training = 12500\n",
      "config.buff_size = 4\n",
      "config.device = \"1\"\n",
      "config.gamma = 0.99\n",
      "config.learning_rate = 0.00025\n",
      "config.exploration_steps = 250000\n",
      "config.initial_epsilon = 1.\n",
      "config.final_epsilon = 0.1\n",
      "config.sync_rate = 2500\n",
      "config.save_summary_rate = 10000   \n",
      "config.num_episodes = 10000\n",
      "config.log_online_summary_rate = 50\n",
      "config.log_perf_summary_rate = 1000\n",
      "config.save_rate = 1000\n",
      "config.log_percent_rate = 1000\n",
      "config.test_run_num = 20\n",
      "config.logging = False\n",
      "config.transition_function =\"oh_concat\"\n",
      "config.env_name = \"Breakout-v0\"\n",
      "config.agent = \"DQN\"\n",
      "config.device = \"/gpu:\"+config.device\n",
      "print(\"Logging: \" + str(config.logging))\n",
      "tf.logging.set_verbosity(tf.logging.ERROR)\n",
      "config.load_checkpoint = \"\"\n",
      "#config.load_checkpoint = \"run-5_episode-37000\"\n",
      "\n",
      "import importlib\n",
      "Agent = importlib.import_module(\"agents.\"+config.agent).Agent\n",
      "\n",
      "print(\"Logging: \" + str(config.logging))\n",
      "if config.transition_function not in [\n",
      "        \"oh_concat\", \"expanded_concat\", \"conditional\"]:\n",
      "    raise Exception(config.transition_function+\" is not valid transition function\")\n",
      "tf.logging.set_verbosity(tf.logging.ERROR)\n",
      "\n",
      "# from the selected agent import agent\n",
      "env = gym.make(config.env_name)\n",
      "config.action_num = env.action_space.n\n",
      "\n",
      "sess_config = tf.ConfigProto()\n",
      "sess_config.allow_soft_placement = True\n",
      "sess_config.gpu_options.allow_growth = True\n",
      "sess_config.log_device_placement = False\n",
      "sess = tf.Session(config=sess_config)\n",
      "\n",
      "agent = Agent(config, sess)\n",
      "\n",
      "if config.logging:\n",
      "    int_folders = []\n",
      "    for folder in os.listdir(\"log\"):\n",
      "        folder_num = re.search(r\"\\d+\", folder)\n",
      "        if folder_num:\n",
      "            int_folders.append(int(folder_num.group()))\n",
      "    run_name = str(max(int_folders + [0]) + 1)+\"-\"+config.agent+\"-\"+config.env_name\n",
      "    log_path = \"log/\" + run_name + \"/\"\n",
      "    checkpoint_path = log_path + \"checkpoint/\"\n",
      "    print(\"Starting run: \" + str(run_name))\n",
      "    summary_writter_ = tf.train.SummaryWriter(\n",
      "        log_path, sess.graph, flush_secs=20)\n",
      "    summary_writter = summary_writter_\n",
      "    os.makedirs(checkpoint_path)\n",
      "    config_log_file = open(log_path + \"config.txt\", 'w+')\n",
      "    config_vars_dict = vars(config)\n",
      "    for var in config_vars_dict:\n",
      "        config_log_file.write(var + \": \" + str(config_vars_dict[var]) + \"\\n\")\n",
      "    config_log_file.close()\n",
      "else:\n",
      "    #Not defined\n",
      "    summary_writter = 0\n",
      "\n",
      "agent.set_summary_writer(summary_writter)\n",
      "\n",
      "saver = tf.train.Saver(max_to_keep=20)\n",
      "\n",
      "def load_checkpoint():\n",
      "    run_num = re.search(r\"\\d+\", config.load_checkpoint)\n",
      "    if run_num == None:\n",
      "        raise Exception(\"Not a run number in checkpoint file\")\n",
      "    run_num = run_num.group()\n",
      "    for folder in os.listdir(\"log\"):\n",
      "        folder_num = re.search(r\"\\d+\", folder)\n",
      "        if folder_num and folder_num.group() == run_num:\n",
      "            ckpt_file = \"log/\"+folder+\"/checkpoint/\"+config.load_checkpoint\n",
      "    print(\"loading: \" + ckpt_file)\n",
      "    saver.restore(sess, ckpt_file)\n",
      "\n",
      "if config.load_checkpoint != \"\":\n",
      "    load_checkpoint()\n",
      "else:\n",
      "    sess.run(tf.initialize_all_variables())\n",
      "\n",
      "def test_run(n):\n",
      "    agent.testing(True)\n",
      "    score_list = []\n",
      "    for episode in range(n):\n",
      "        x, r, done, score = env.reset(), 0, False, 0\n",
      "        while not done:\n",
      "            action = agent.step(x, r)\n",
      "            x, r, done, info = env.step(action)\n",
      "            score += r\n",
      "        agent.done()\n",
      "        score_list.append(score)\n",
      "    agent.testing(False)\n",
      "    return score_list"
     ],
     "language": "python",
     "metadata": {},
     "outputs": [
      {
       "output_type": "stream",
       "stream": "stdout",
       "text": [
        "Logging: False\n",
        "Logging: False"
       ]
      },
      {
       "output_type": "stream",
       "stream": "stderr",
       "text": [
        "/home/cgel/.local/lib/python2.7/site-packages/matplotlib/font_manager.py:273: UserWarning: Matplotlib is building the font cache using fc-list. This may take a moment.\n",
        "  warnings.warn('Matplotlib is building the font cache using fc-list. This may take a moment.')\n",
        "INFO:gym.envs.registration:Making new env: Breakout-v0\n"
       ]
      },
      {
       "output_type": "stream",
       "stream": "stderr",
       "text": [
        "[2016-12-25 20:57:31,971] Making new env: Breakout-v0\n"
       ]
      },
      {
       "output_type": "stream",
       "stream": "stdout",
       "text": [
        "\n"
       ]
      }
     ],
     "prompt_number": 1
    },
    {
     "cell_type": "code",
     "collapsed": false,
     "input": [
      "#load_checkpoint(\"run-18-dqn_episode-28000\")"
     ],
     "language": "python",
     "metadata": {},
     "outputs": [],
     "prompt_number": 2
    },
    {
     "cell_type": "code",
     "collapsed": false,
     "input": [
      "#test_run(1)"
     ],
     "language": "python",
     "metadata": {},
     "outputs": [],
     "prompt_number": 3
    },
    {
     "cell_type": "code",
     "collapsed": false,
     "input": [
      "def train(num_episodes):\n",
      "    for episode in range(num_episodes):\n",
      "        x, r, done, score = env.reset(), 0, False, 0\n",
      "        ep_begin_t = time.time()\n",
      "        while not done:\n",
      "            action = agent.step(x, r)\n",
      "            x, r, done, info = env.step(action)\n",
      "            score += r\n",
      "        agent.done()\n",
      "        ep_duration = time.time() - ep_begin_t\n",
      "        # online Summary\n",
      "        if not config.logging:\n",
      "            continue\n",
      "        is_final_episode = config.num_episodes == episode\n",
      "        if episode % config.log_online_summary_rate == 0 or is_final_episode:\n",
      "            episode_online_summary = tf.Summary(\n",
      "                value=[\n",
      "                    tf.Summary.Value(\n",
      "                        tag=\"online/epsilon\",\n",
      "                        simple_value=agent.epsilon()),\n",
      "                    tf.Summary.Value(\n",
      "                        tag=\"online/score\",\n",
      "                        simple_value=score),\n",
      "                    tf.Summary.Value(\n",
      "                        tag=\"online/global_step\",\n",
      "                        simple_value=agent.step_count),\n",
      "                    tf.Summary.Value(\n",
      "                        tag=\"online/ep_duration_seconds\",\n",
      "                        simple_value=ep_duration)])\n",
      "            summary_writter.add_summary(episode_online_summary, episode)\n",
      "        # log percent\n",
      "        if episode % config.log_percent_rate == 0 and episode != 0 or is_final_episode:\n",
      "            percent = float(episode) / config.num_episodes * 100\n",
      "            print(\"%i%% -- epsilon:%.2f\" % (percent, agent.epsilon()))\n",
      "        # save\n",
      "        if episode % config.save_rate == 0 and episode != 0 or is_final_episode:\n",
      "            print(\"saving checkpoint at episode \" + str(episode))\n",
      "            saver.save(sess, checkpoint_path + \"run-\" +\n",
      "                       run_name + \"_episode\", episode)\n",
      "        # performance summary\n",
      "        if episode % config.log_perf_summary_rate == 0 or is_final_episode:\n",
      "            score_list = test_run(n=config.test_run_num)\n",
      "            performance_summary = tf.Summary(\n",
      "                value=[\n",
      "                    tf.Summary.Value(\n",
      "                        tag=\"test_score/average\",\n",
      "                        simple_value=sum(score_list) /\n",
      "                        len(score_list)),\n",
      "                    tf.Summary.Value(\n",
      "                        tag=\"test_score/max\",\n",
      "                        simple_value=max(score_list)),\n",
      "                    tf.Summary.Value(\n",
      "                        tag=\"test_score/min\",\n",
      "                        simple_value=min(score_list)),\n",
      "                ])\n",
      "            summary_writter.add_summary(performance_summary, agent.step_count)"
     ],
     "language": "python",
     "metadata": {},
     "outputs": [],
     "prompt_number": 4
    },
    {
     "cell_type": "code",
     "collapsed": false,
     "input": [
      "train(10)"
     ],
     "language": "python",
     "metadata": {},
     "outputs": [],
     "prompt_number": 6
    },
    {
     "cell_type": "code",
     "collapsed": false,
     "input": [],
     "language": "python",
     "metadata": {},
     "outputs": []
    },
    {
     "cell_type": "code",
     "collapsed": false,
     "input": [
      "n = 100\n",
      "mean = 0\n",
      "std = 0\n",
      "for i in range(n):\n",
      "    state_batch, action_batch, reward_batch, next_state_batch, terminal_batch, _ = agent.RM.sample_transition_batch()\n",
      "    raw = state_batch / 256.\n",
      "    mean += raw.mean()\n",
      "    std += raw.std()\n",
      "print(mean/n)\n",
      "print(std/n)"
     ],
     "language": "python",
     "metadata": {},
     "outputs": [
      {
       "output_type": "stream",
       "stream": "stdout",
       "text": [
        "0.159650867964\n",
        "0.240442542038\n"
       ]
      }
     ],
     "prompt_number": 13
    },
    {
     "cell_type": "code",
     "collapsed": false,
     "input": [
      "state_batch, action_batch, reward_batch, next_state_batch, terminal_batch, _ = agent.RM.sample_transition_batch()"
     ],
     "language": "python",
     "metadata": {},
     "outputs": [],
     "prompt_number": 9
    },
    {
     "cell_type": "code",
     "collapsed": false,
     "input": [],
     "language": "python",
     "metadata": {},
     "outputs": []
    },
    {
     "cell_type": "code",
     "collapsed": false,
     "input": [],
     "language": "python",
     "metadata": {},
     "outputs": []
    },
    {
     "cell_type": "code",
     "collapsed": false,
     "input": [
      "x, r, done, score = env.reset(), 0, False, 0\n",
      "agent.done()\n",
      "Qs = []\n",
      "dones = []\n",
      "step = 0\n",
      "agent.testing()"
     ],
     "language": "python",
     "metadata": {},
     "outputs": [],
     "prompt_number": 41
    },
    {
     "cell_type": "code",
     "collapsed": false,
     "input": [
      "for i in range(100):\n",
      "    action = agent.step(x, r)\n",
      "    Qs.append(sess.run(agent.Q, {agent.state:agent.game_state})[0])\n",
      "    x, r, done, info = env.step(action)\n",
      "    step += 1\n",
      "for i in range(4):\n",
      "    Qs[i].fill(0)\n",
      "plt.plot(np.array(Qs))\n",
      "#show_state(agent.game_state[0])"
     ],
     "language": "python",
     "metadata": {},
     "outputs": [
      {
       "metadata": {},
       "output_type": "pyout",
       "prompt_number": 50,
       "text": [
        "[<matplotlib.lines.Line2D at 0x7f4be9ac86d0>,\n",
        " <matplotlib.lines.Line2D at 0x7f4be9ac88d0>,\n",
        " <matplotlib.lines.Line2D at 0x7f4be9ac8a10>,\n",
        " <matplotlib.lines.Line2D at 0x7f4be9ac8b50>]"
       ]
      },
      {
       "metadata": {},
       "output_type": "display_data",
       "png": "[encoded data removed]",
       "text": [
        "<matplotlib.figure.Figure at 0x7f4be9e35f50>"
       ]
      }
     ],
     "prompt_number": 50
    },
    {
     "cell_type": "code",
     "collapsed": false,
     "input": [
      "Qs = []"
     ],
     "language": "python",
     "metadata": {},
     "outputs": [],
     "prompt_number": 48
    }
   ],
   "metadata": {}
  }
 ]
}